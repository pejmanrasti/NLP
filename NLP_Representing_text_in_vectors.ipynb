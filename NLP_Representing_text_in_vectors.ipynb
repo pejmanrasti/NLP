{
  "nbformat": 4,
  "nbformat_minor": 0,
  "metadata": {
    "colab": {
      "name": "NLP_Representing_text_in_vectors.ipynb",
      "provenance": [],
      "collapsed_sections": [],
      "include_colab_link": true
    },
    "kernelspec": {
      "name": "python3",
      "display_name": "Python 3"
    },
    "language_info": {
      "name": "python"
    }
  },
  "cells": [
    {
      "cell_type": "markdown",
      "metadata": {
        "id": "view-in-github",
        "colab_type": "text"
      },
      "source": [
        "<a href=\"https://colab.research.google.com/github/pejmanrasti/NLP/blob/main/NLP_Representing_text_in_vectors.ipynb\" target=\"_parent\"><img src=\"https://colab.research.google.com/assets/colab-badge.svg\" alt=\"Open In Colab\"/></a>"
      ]
    },
    {
      "cell_type": "markdown",
      "source": [
        "# Machine Learning for NLP \n",
        "\n"
      ],
      "metadata": {
        "id": "9TjTU0Z_waFz"
      }
    },
    {
      "cell_type": "markdown",
      "source": [
        "# WordNet"
      ],
      "metadata": {
        "id": "AuMNCOrs9By5"
      }
    },
    {
      "cell_type": "code",
      "execution_count": null,
      "metadata": {
        "colab": {
          "base_uri": "https://localhost:8080/"
        },
        "id": "5n38PCXSAwgS",
        "outputId": "c714b053-8079-4c75-9e2d-78f38879868e"
      },
      "outputs": [
        {
          "output_type": "stream",
          "name": "stdout",
          "text": [
            "[nltk_data] Downloading package wordnet to /root/nltk_data...\n",
            "[nltk_data]   Unzipping corpora/wordnet.zip.\n",
            "[nltk_data] Downloading package omw-1.4 to /root/nltk_data...\n",
            "[nltk_data]   Unzipping corpora/omw-1.4.zip.\n"
          ]
        },
        {
          "output_type": "execute_result",
          "data": {
            "text/plain": [
              "True"
            ]
          },
          "metadata": {},
          "execution_count": 1
        }
      ],
      "source": [
        "import nltk\n",
        "nltk.download('wordnet')\n",
        "nltk.download('omw-1.4')"
      ]
    },
    {
      "cell_type": "code",
      "source": [
        "from nltk.corpus import wordnet as wn\n",
        "# look up all the synsets that use a given word\n",
        "wn.synsets('dog')"
      ],
      "metadata": {
        "colab": {
          "base_uri": "https://localhost:8080/"
        },
        "id": "kXmFQJmTBNiE",
        "outputId": "977437ff-d3a5-43ea-fd22-c61dbe0a762f"
      },
      "execution_count": null,
      "outputs": [
        {
          "output_type": "execute_result",
          "data": {
            "text/plain": [
              "[Synset('dog.n.01'),\n",
              " Synset('frump.n.01'),\n",
              " Synset('dog.n.03'),\n",
              " Synset('cad.n.01'),\n",
              " Synset('frank.n.02'),\n",
              " Synset('pawl.n.01'),\n",
              " Synset('andiron.n.01'),\n",
              " Synset('chase.v.01')]"
            ]
          },
          "metadata": {},
          "execution_count": 2
        }
      ]
    },
    {
      "cell_type": "code",
      "source": [
        " wn.synsets('cat')"
      ],
      "metadata": {
        "colab": {
          "base_uri": "https://localhost:8080/"
        },
        "id": "IdtPCB3aBV4P",
        "outputId": "009d6f2e-bcde-4310-a614-00e549b69931"
      },
      "execution_count": null,
      "outputs": [
        {
          "output_type": "execute_result",
          "data": {
            "text/plain": [
              "[Synset('cat.n.01'),\n",
              " Synset('guy.n.01'),\n",
              " Synset('cat.n.03'),\n",
              " Synset('kat.n.01'),\n",
              " Synset('cat-o'-nine-tails.n.01'),\n",
              " Synset('caterpillar.n.02'),\n",
              " Synset('big_cat.n.01'),\n",
              " Synset('computerized_tomography.n.01'),\n",
              " Synset('cat.v.01'),\n",
              " Synset('vomit.v.01')]"
            ]
          },
          "metadata": {},
          "execution_count": 3
        }
      ]
    },
    {
      "cell_type": "code",
      "source": [
        "# Focus on \"dog\" and \"cat\" the animals\n",
        "dog = wn.synset('dog.n.01')\n",
        "cat = wn.synset('cat.n.01')"
      ],
      "metadata": {
        "id": "zEPiepORBXcz"
      },
      "execution_count": null,
      "outputs": []
    },
    {
      "cell_type": "code",
      "source": [
        "# Similarity\n",
        "dog.path_similarity(cat)"
      ],
      "metadata": {
        "colab": {
          "base_uri": "https://localhost:8080/"
        },
        "id": "T285K1q5B15F",
        "outputId": "37101a35-dc22-483f-d860-0f4e45882c80"
      },
      "execution_count": null,
      "outputs": [
        {
          "output_type": "execute_result",
          "data": {
            "text/plain": [
              "0.2"
            ]
          },
          "metadata": {},
          "execution_count": 5
        }
      ]
    },
    {
      "cell_type": "code",
      "source": [
        "# Why? Let's check for hypernyms of dog and cat\n",
        "print(dog.hypernyms()) # dog IS-A canine\n",
        "print(cat.hypernyms()) # cat IS-A feline"
      ],
      "metadata": {
        "colab": {
          "base_uri": "https://localhost:8080/"
        },
        "id": "0glMrom9B910",
        "outputId": "8227312c-7a47-4486-d21f-c4cb676b2619"
      },
      "execution_count": null,
      "outputs": [
        {
          "output_type": "stream",
          "name": "stdout",
          "text": [
            "[Synset('canine.n.02'), Synset('domestic_animal.n.01')]\n",
            "[Synset('feline.n.01')]\n"
          ]
        }
      ]
    },
    {
      "cell_type": "code",
      "source": [
        "canine = wn.synset('canine.n.02')\n",
        "feline = wn.synset('feline.n.01')\n",
        "# check now hypernyms of canine and feline\n",
        "canine.hypernyms(), feline.hypernyms()\n",
        "# canine IS-A carnivore and feline IS-A carnivore\n",
        "# We found the shortest path from cat to dog\n"
      ],
      "metadata": {
        "colab": {
          "base_uri": "https://localhost:8080/"
        },
        "id": "M28PFs7sCOrw",
        "outputId": "9be0e7e1-fbe8-446d-cd19-c15d8a540dc7"
      },
      "execution_count": null,
      "outputs": [
        {
          "output_type": "execute_result",
          "data": {
            "text/plain": [
              "([Synset('carnivore.n.01')], [Synset('carnivore.n.01')])"
            ]
          },
          "metadata": {},
          "execution_count": 7
        }
      ]
    },
    {
      "cell_type": "markdown",
      "source": [
        "\n",
        "\n",
        "\n",
        "# Count-Based Representations\n",
        "\n",
        "\n"
      ],
      "metadata": {
        "id": "JJBKyC-e9Awv"
      }
    },
    {
      "cell_type": "code",
      "source": [
        "import numpy as np\n",
        "from numpy import dot\n",
        "from numpy.linalg import norm\n",
        "\n",
        "# Co-Occurences of dog, lion and car \n",
        "# (leash, walk, run, owner, pet, barked, the)\n",
        "dog = [3,  5,   2,   5,     3,   2 ,    9]\n",
        "lion = [0, 3,   2,   0,     1,   0,     5]\n",
        "car = [0,  0,   1,   3,     0,   0,     9]\n",
        "\n",
        "dog = np.array(dog)\n",
        "lion = np.array(lion)\n",
        "car =  np.array(car)\n",
        "\n",
        "def cosine(v1, v2):\n",
        "  \"\"\"\n",
        "  cosine similarity of two vectors\n",
        "  NB: Standard metric to measure similarity between word vectors\n",
        "  \"\"\"\n",
        "  return dot(v1, v2)/(norm(v1)*norm(v2))\n",
        "\n",
        "print(f'Example 1: Original similarities \\nCosine Similarity dog vs. lion {cosine(dog, lion)} ')\n",
        "print(f'Cosine Similarity dog vs. car {cosine(dog, car)} \\n')\n",
        "\n",
        "\n"
      ],
      "metadata": {
        "colab": {
          "base_uri": "https://localhost:8080/"
        },
        "id": "g5YDmizY9MFL",
        "outputId": "4108a848-1815-4943-8b22-4007663d2dde"
      },
      "execution_count": 13,
      "outputs": [
        {
          "output_type": "stream",
          "name": "stdout",
          "text": [
            "Example 1: Original similarities \n",
            "Cosine Similarity dog vs. lion 0.8562344018852232 \n",
            "Cosine Similarity dog vs. car 0.8198899317865649 \n",
            "\n"
          ]
        }
      ]
    },
    {
      "cell_type": "code",
      "source": [
        "# Now assume 'the dog' and 'the car' appear much more \n",
        "dog = [3,  5,   2,   5,     3,   2 ,    24]\n",
        "car = [0, 0, 1, 3, 0, 0,                24]\n",
        "print(f'Example 2: Now assume \"the dog\" and \"the car\" appear much more  \\nCosine Similarity dog vs. lion {cosine(dog, lion)}')\n",
        "print(f'Cosine Similarity dog vs. car {cosine(dog, car)} ')\n",
        "print(f'What do you observe? \\n')\n",
        "# Very high sensitivity to very frequent words \n",
        "\n",
        "\n"
      ],
      "metadata": {
        "id": "BK4D3KPpdVZO",
        "outputId": "bc1f9790-4e2e-49f6-f06a-780b12b9604d",
        "colab": {
          "base_uri": "https://localhost:8080/"
        }
      },
      "execution_count": 14,
      "outputs": [
        {
          "output_type": "stream",
          "name": "stdout",
          "text": [
            "Example 2: Now assume \"the dog\" and \"the car\" appear much more  \n",
            "Cosine Similarity dog vs. lion 0.8904965536163051\n",
            "Cosine Similarity dog vs. car 0.9593610617759626 \n",
            "What do you observe? \n",
            "\n"
          ]
        }
      ]
    },
    {
      "cell_type": "code",
      "source": [
        "# Now assume \n",
        "dog = [3+1,  5,   2,   5,     3,   2 ,    9]\n",
        "car = [0+1, 0, 1, 3, 0, 0, 9]\n",
        "dog = np.array(dog)\n",
        "print(f'Example 3: Now we add only two occurences in leash \\nCosine Similarity dog vs. lion {cosine(dog, lion)} ')\n",
        "print(f'Cosine Similarity dog vs. car {cosine(dog, car)}')\n",
        "print(f'What do you observe? \\n')\n",
        "# Very high sensitivity to very frequent words "
      ],
      "metadata": {
        "id": "zSfh9fd8dZFk",
        "outputId": "ff15cc8c-9270-44a6-b61e-e6bc45a96e2f",
        "colab": {
          "base_uri": "https://localhost:8080/"
        }
      },
      "execution_count": 15,
      "outputs": [
        {
          "output_type": "stream",
          "name": "stdout",
          "text": [
            "Example 3: Now we add only two occurences in leash \n",
            "Cosine Similarity dog vs. lion 0.8377618414945953 \n",
            "Cosine Similarity dog vs. car 0.8303942515079411\n",
            "What do you observe? \n",
            "\n"
          ]
        }
      ]
    },
    {
      "cell_type": "code",
      "source": [
        "# (leash, walk, run, owner, pet, barked, the)\n",
        "import numpy as np\n",
        "\n",
        "dog = np.array([3,  5,   2,   5,     3,   2 ,    8])\n",
        "lion = np.array([0, 3,   2,   0,     1,   0,     6])\n",
        "car = np.array([0,  0,   1,   3,     0,   0,     3])\n",
        "\n",
        "leash = np.array([3, 0, 0])\n",
        "walk = np.array([5, 3, 0])\n",
        "run = np.array([2, 2, 1])\n",
        "owner = np.array([5, 0, 3])\n",
        "pet = np.array([3, 1, 0])\n",
        "barked = np.array([2, 0, 0])\n",
        "the = np.array([8, 6, 3])\n",
        "\n",
        "context = [leash, walk, run, owner, pet, barked, the]\n",
        "total_pairs = sum(a for vec in context for a in vec)\n",
        "print(total_pairs)\n",
        "\n",
        "dog_pmi = [f\"{np.log(_dog*total_pairs/(np.sum(_dog)*np.sum(context[i][0]))):0.2f}\" for i, _dog in enumerate(dog)]\n",
        "lion_pmi = [f\"{np.log(_lion*total_pairs/(np.sum(_lion)*np.sum(context[i][1]))):0.2f}\" if _lion != 0 else 0 for i, _lion in enumerate(lion)]\n",
        "car_pmi = [f\"{np.log(_car*total_pairs/(np.sum(_car)*np.sum(context[i][2]))):0.2f}\" if _car!= 0 else 0 for i, _car in enumerate(car)]\n",
        "\n",
        "print(dog_pmi)\n",
        "print(lion_pmi)\n",
        "print(car_pmi)"
      ],
      "metadata": {
        "colab": {
          "base_uri": "https://localhost:8080/"
        },
        "id": "7UQTwR-LODEf",
        "outputId": "4724d60e-9b2e-490e-88fd-64a86ac5b663"
      },
      "execution_count": 16,
      "outputs": [
        {
          "output_type": "stream",
          "name": "stdout",
          "text": [
            "47\n",
            "['2.75', '2.24', '3.16', '2.24', '2.75', '3.16', '1.77']\n",
            "[0, '2.75', '3.16', 0, '3.85', 0, '2.06']\n",
            "[0, 0, '3.85', '2.75', 0, 0, '2.75']\n"
          ]
        }
      ]
    },
    {
      "cell_type": "markdown",
      "source": [
        "# Prediction-Based Representation: Word2vec - Skip Gram"
      ],
      "metadata": {
        "id": "wJKDdZ96P54f"
      }
    },
    {
      "cell_type": "code",
      "source": [
        "!git clone https://github.com/facebookresearch/fastText.git\n",
        "!pip install fastText/.\n",
        "# Load model\n",
        "!wget https://dl.fbaipublicfiles.com/fasttext/vectors-wiki/wiki.en.zip\n",
        "!unzip wiki.en.zip\n",
        "import fasttext\n",
        "w2v = fasttext.load_model('wiki.en.bin')\n",
        "#model = fastText.load_model(\"cc.en.300.bin\")# Load model\n",
        "#"
      ],
      "metadata": {
        "id": "olHAZ_0mNvUY",
        "colab": {
          "base_uri": "https://localhost:8080/"
        },
        "outputId": "74b434a1-cf41-4aef-8d51-84617b641b83"
      },
      "execution_count": 1,
      "outputs": [
        {
          "output_type": "stream",
          "name": "stdout",
          "text": [
            "Cloning into 'fastText'...\n",
            "remote: Enumerating objects: 3930, done.\u001b[K\n",
            "remote: Counting objects: 100% (76/76), done.\u001b[K\n",
            "remote: Compressing objects: 100% (47/47), done.\u001b[K\n",
            "remote: Total 3930 (delta 28), reused 42 (delta 11), pack-reused 3854\u001b[K\n",
            "Receiving objects: 100% (3930/3930), 8.33 MiB | 17.49 MiB/s, done.\n",
            "Resolving deltas: 100% (2445/2445), done.\n",
            "Processing ./fastText\n",
            "\u001b[33m  DEPRECATION: A future pip version will change local packages to be built in-place without first copying to a temporary directory. We recommend you use --use-feature=in-tree-build to test your packages with this new behavior before it becomes the default.\n",
            "   pip 21.3 will remove support for this functionality. You can find discussion regarding this at https://github.com/pypa/pip/issues/7555.\u001b[0m\n",
            "Collecting pybind11>=2.2\n",
            "  Using cached pybind11-2.9.1-py2.py3-none-any.whl (211 kB)\n",
            "Requirement already satisfied: setuptools>=0.7.0 in /usr/local/lib/python3.7/dist-packages (from fasttext==0.9.2) (57.4.0)\n",
            "Requirement already satisfied: numpy in /usr/local/lib/python3.7/dist-packages (from fasttext==0.9.2) (1.21.5)\n",
            "Building wheels for collected packages: fasttext\n",
            "  Building wheel for fasttext (setup.py) ... \u001b[?25l\u001b[?25hdone\n",
            "  Created wheel for fasttext: filename=fasttext-0.9.2-cp37-cp37m-linux_x86_64.whl size=3122331 sha256=ecd1e0f78d01b8155a7a2f45f917a91dd968fe22b938842378e20219fb3a0a2f\n",
            "  Stored in directory: /tmp/pip-ephem-wheel-cache-7wgw1hy2/wheels/22/04/6e/b3aba25c1a5845898b5871a0df37c2126cb0cc9326ad0c08e7\n",
            "Successfully built fasttext\n",
            "Installing collected packages: pybind11, fasttext\n",
            "Successfully installed fasttext-0.9.2 pybind11-2.9.1\n",
            "--2022-03-16 19:43:34--  https://dl.fbaipublicfiles.com/fasttext/vectors-wiki/wiki.en.zip\n",
            "Resolving dl.fbaipublicfiles.com (dl.fbaipublicfiles.com)... 104.22.75.142, 172.67.9.4, 104.22.74.142, ...\n",
            "Connecting to dl.fbaipublicfiles.com (dl.fbaipublicfiles.com)|104.22.75.142|:443... connected.\n",
            "HTTP request sent, awaiting response... 200 OK\n",
            "Length: 10356881291 (9.6G) [application/zip]\n",
            "Saving to: ‘wiki.en.zip’\n",
            "\n",
            "wiki.en.zip         100%[===================>]   9.65G  31.2MB/s    in 4m 35s  \n",
            "\n",
            "2022-03-16 19:48:09 (36.0 MB/s) - ‘wiki.en.zip’ saved [10356881291/10356881291]\n",
            "\n",
            "Archive:  wiki.en.zip\n",
            "  inflating: wiki.en.vec             \n",
            "  inflating: wiki.en.bin             \n"
          ]
        }
      ]
    },
    {
      "cell_type": "code",
      "source": [
        "import numpy as np\n",
        "vector = w2v.get_word_vector(\"dog\")\n",
        "# Dimensions ? \n",
        "print(vector.shape)\n",
        "# How many words in the vocabulary ?\n",
        "len(w2v.words)\n",
        "\n"
      ],
      "metadata": {
        "colab": {
          "base_uri": "https://localhost:8080/"
        },
        "id": "CfsA3WjPOGYG",
        "outputId": "c7330eca-c36f-4aea-c008-e393ae9a5b88"
      },
      "execution_count": 3,
      "outputs": [
        {
          "output_type": "stream",
          "name": "stdout",
          "text": [
            "(300,)\n"
          ]
        },
        {
          "output_type": "execute_result",
          "data": {
            "text/plain": [
              "2519370"
            ]
          },
          "metadata": {},
          "execution_count": 3
        }
      ]
    },
    {
      "cell_type": "code",
      "source": [
        "# Here is a sample of the vocabulary \n",
        "[w2v.words[i] for i in range(20)]"
      ],
      "metadata": {
        "id": "Xk--sPxNVUIF",
        "outputId": "1f2977e4-cb14-4c92-bfa5-23d8168ba456",
        "colab": {
          "base_uri": "https://localhost:8080/"
        }
      },
      "execution_count": 6,
      "outputs": [
        {
          "output_type": "execute_result",
          "data": {
            "text/plain": [
              "[',',\n",
              " '.',\n",
              " 'the',\n",
              " '</s>',\n",
              " 'of',\n",
              " '-',\n",
              " 'in',\n",
              " 'and',\n",
              " \"'\",\n",
              " ')',\n",
              " '(',\n",
              " 'to',\n",
              " 'a',\n",
              " 'is',\n",
              " 'was',\n",
              " 'on',\n",
              " 's',\n",
              " 'for',\n",
              " 'as',\n",
              " 'by']"
            ]
          },
          "metadata": {},
          "execution_count": 6
        }
      ]
    },
    {
      "cell_type": "code",
      "source": [
        "# Visualization\n",
        "from sklearn.decomposition import PCA\n",
        "#%matplotlib notebook\n",
        "import matplotlib.pyplot as plt\n",
        "#plt.style.use('ggplot')\n",
        "\n",
        "def plot_word2vec_embedding(model: fasttext.FastText._FastText, projection=\"pca\", \n",
        "                            words=None, \n",
        "                            plot_dir=None,\n",
        "                            sample=0):\n",
        "        \n",
        "    w2v = np.array([model.get_word_vector(w) for w in words])\n",
        "\n",
        "    if projection == \"pca\":\n",
        "      pca_representations = PCA().fit_transform(w2v)[:,:2]\n",
        "    else:\n",
        "      raise(Exception(f\"{projection} not supported\"))\n",
        "    \n",
        "    plt.figure(figsize=(6,6))\n",
        "    plt.scatter(pca_representations[:,0], pca_representations[:,1], edgecolors='k', c='r')\n",
        "    for word, (x,y) in zip(words, pca_representations):\n",
        "        plt.text(x+0.05, y+0.05, word)\n",
        "    if plot_dir:\n",
        "      plt.savefig(plot_dir)"
      ],
      "metadata": {
        "id": "61mrlYXOPg2c"
      },
      "execution_count": 10,
      "outputs": []
    },
    {
      "cell_type": "code",
      "source": [
        "plot_word2vec_embedding(w2v, \n",
        "                        words = ['dog', 'cat', 'animal', 'elephant', 'car', 'human','horse', 'monkey', 'parrot', 'koala', 'lizard',\n",
        "                         #  'eating', 'barking',\n",
        "                         'man', 'woman',\"girl\",\"boy\",\"uncle\", \n",
        "                         \"he\", \"she\", \"her\", \"him\",\n",
        "                         \"the\", \"that\",\"this\",\n",
        "                         'paris', 'madrid', 'london', \"rome\"],\n",
        "                         plot_dir=\"./plot_2.png\",\n",
        "                         )"
      ],
      "metadata": {
        "colab": {
          "base_uri": "https://localhost:8080/",
          "height": 374
        },
        "id": "_9vy93K5Qc2Y",
        "outputId": "7fd7c755-ce44-4319-adef-28e883b5683b"
      },
      "execution_count": 11,
      "outputs": [
        {
          "output_type": "display_data",
          "data": {
            "text/plain": [
              "<Figure size 432x432 with 1 Axes>"
            ],
            "image/png": "[encoded data removed]"
          },
          "metadata": {
            "needs_background": "light"
          }
        }
      ]
    },
    {
      "cell_type": "code",
      "source": [
        "pairs = [(\"tigers\", \"tigers\"),\n",
        "         (\"dollar\", \"buck\"),\n",
        "         (\"dollar\", \"profit\"),\n",
        "         (\"smart\", \"stupid\")\n",
        "         ]"
      ],
      "metadata": {
        "id": "Lgs-L7jsaC_u"
      },
      "execution_count": 12,
      "outputs": []
    },
    {
      "cell_type": "code",
      "source": [
        "from numpy import dot\n",
        "from numpy.linalg import norm\n",
        "\n",
        "for (w1, w2) in pairs:\n",
        "  v1 = w2v.get_word_vector(w1)\n",
        "  v2 = w2v.get_word_vector(w2)\n",
        "  print(f\"Cosine: {w1} vs. {w2} {dot(v1, v2)/(norm(v1)*norm(v2))}\")"
      ],
      "metadata": {
        "colab": {
          "base_uri": "https://localhost:8080/"
        },
        "id": "Rq0sIqTKcmad",
        "outputId": "95ed80c3-4654-4f60-f618-26e09f0e9c0b"
      },
      "execution_count": 13,
      "outputs": [
        {
          "output_type": "stream",
          "name": "stdout",
          "text": [
            "Cosine: tigers vs. tigers 1.0000001192092896\n",
            "Cosine: dollar vs. buck 0.3065042495727539\n",
            "Cosine: dollar vs. profit 0.3420848250389099\n",
            "Cosine: smart vs. stupid 0.4128660261631012\n"
          ]
        }
      ]
    }
  ]
}