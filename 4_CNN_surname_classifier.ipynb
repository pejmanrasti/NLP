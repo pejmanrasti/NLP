{
  "cells": [
    {
      "cell_type": "markdown",
      "metadata": {
        "id": "view-in-github",
        "colab_type": "text"
      },
      "source": [
        "<a href=\"https://colab.research.google.com/github/pejmanrasti/NLP/blob/main/4_CNN_surname_classifier.ipynb\" target=\"_parent\"><img src=\"https://colab.research.google.com/assets/colab-badge.svg\" alt=\"Open In Colab\"/></a>"
      ]
    },
    {
      "cell_type": "markdown",
      "id": "6b2b64e7",
      "metadata": {
        "id": "6b2b64e7"
      },
      "source": [
        "# Multi-Layer Perceptron (MLP) for Surname Nationality Classification\n",
        "\n",
        "This notebook demonstrates how to build and train a Multi-Layer Perceptron (MLP) to classify surnames based on their nationalities using a dataset of surnames and corresponding nationalities."
      ]
    },
    {
      "cell_type": "code",
      "execution_count": 10,
      "id": "565b673c",
      "metadata": {
        "id": "565b673c"
      },
      "outputs": [],
      "source": [
        "import pandas as pd\n",
        "import numpy as np\n",
        "from sklearn.model_selection import train_test_split\n",
        "from sklearn.preprocessing import LabelEncoder\n",
        "from keras.models import Sequential\n",
        "from keras.layers import Dense, Dropout, Flatten\n",
        "from keras.layers import Conv1D, MaxPooling1D\n",
        "from tensorflow.keras.utils import to_categorical\n",
        "from keras.layers import Embedding"
      ]
    },
    {
      "cell_type": "markdown",
      "id": "dcd2f079",
      "metadata": {
        "id": "dcd2f079"
      },
      "source": [
        "## Step 2: Load and Preprocess the Data\n",
        "\n",
        "The dataset is loaded into a Pandas DataFrame. We need to preprocess this data for our neural network."
      ]
    },
    {
      "cell_type": "code",
      "execution_count": 2,
      "id": "54c50e8c",
      "metadata": {
        "colab": {
          "base_uri": "https://localhost:8080/",
          "height": 226
        },
        "id": "54c50e8c",
        "outputId": "6d045df6-4259-4d35-abe6-f3c57ad0b07a"
      },
      "outputs": [
        {
          "output_type": "execute_result",
          "data": {
            "text/plain": [
              "    surname nationality\n",
              "0  Woodford     English\n",
              "1      Coté      French\n",
              "2      Kore     English\n",
              "3     Koury      Arabic\n",
              "4    Lebzak     Russian"
            ],
            "text/html": [
              "\n",
              "  <div id=\"df-63e6f3ce-c505-4b9c-aa7e-71d94d10ac53\" class=\"colab-df-container\">\n",
              "    <div>\n",
              "<style scoped>\n",
              "    .dataframe tbody tr th:only-of-type {\n",
              "        vertical-align: middle;\n",
              "    }\n",
              "\n",
              "    .dataframe tbody tr th {\n",
              "        vertical-align: top;\n",
              "    }\n",
              "\n",
              "    .dataframe thead th {\n",
              "        text-align: right;\n",
              "    }\n",
              "</style>\n",
              "<table border=\"1\" class=\"dataframe\">\n",
              "  <thead>\n",
              "    <tr style=\"text-align: right;\">\n",
              "      <th></th>\n",
              "      <th>surname</th>\n",
              "      <th>nationality</th>\n",
              "    </tr>\n",
              "  </thead>\n",
              "  <tbody>\n",
              "    <tr>\n",
              "      <th>0</th>\n",
              "      <td>Woodford</td>\n",
              "      <td>English</td>\n",
              "    </tr>\n",
              "    <tr>\n",
              "      <th>1</th>\n",
              "      <td>Coté</td>\n",
              "      <td>French</td>\n",
              "    </tr>\n",
              "    <tr>\n",
              "      <th>2</th>\n",
              "      <td>Kore</td>\n",
              "      <td>English</td>\n",
              "    </tr>\n",
              "    <tr>\n",
              "      <th>3</th>\n",
              "      <td>Koury</td>\n",
              "      <td>Arabic</td>\n",
              "    </tr>\n",
              "    <tr>\n",
              "      <th>4</th>\n",
              "      <td>Lebzak</td>\n",
              "      <td>Russian</td>\n",
              "    </tr>\n",
              "  </tbody>\n",
              "</table>\n",
              "</div>\n",
              "    <div class=\"colab-df-buttons\">\n",
              "\n",
              "  <div class=\"colab-df-container\">\n",
              "    <button class=\"colab-df-convert\" onclick=\"convertToInteractive('df-63e6f3ce-c505-4b9c-aa7e-71d94d10ac53')\"\n",
              "            title=\"Convert this dataframe to an interactive table.\"\n",
              "            style=\"display:none;\">\n",
              "\n",
              "  <svg xmlns=\"http://www.w3.org/2000/svg\" height=\"24px\" viewBox=\"0 -960 960 960\">\n",
              "    <path d=\"M120-120v-720h720v720H120Zm60-500h600v-160H180v160Zm220 220h160v-160H400v160Zm0 220h160v-160H400v160ZM180-400h160v-160H180v160Zm440 0h160v-160H620v160ZM180-180h160v-160H180v160Zm440 0h160v-160H620v160Z\"/>\n",
              "  </svg>\n",
              "    </button>\n",
              "\n",
              "  <style>\n",
              "    .colab-df-container {\n",
              "      display:flex;\n",
              "      gap: 12px;\n",
              "    }\n",
              "\n",
              "    .colab-df-convert {\n",
              "      background-color: #E8F0FE;\n",
              "      border: none;\n",
              "      border-radius: 50%;\n",
              "      cursor: pointer;\n",
              "      display: none;\n",
              "      fill: #1967D2;\n",
              "      height: 32px;\n",
              "      padding: 0 0 0 0;\n",
              "      width: 32px;\n",
              "    }\n",
              "\n",
              "    .colab-df-convert:hover {\n",
              "      background-color: #E2EBFA;\n",
              "      box-shadow: 0px 1px 2px rgba(60, 64, 67, 0.3), 0px 1px 3px 1px rgba(60, 64, 67, 0.15);\n",
              "      fill: #174EA6;\n",
              "    }\n",
              "\n",
              "    .colab-df-buttons div {\n",
              "      margin-bottom: 4px;\n",
              "    }\n",
              "\n",
              "    [theme=dark] .colab-df-convert {\n",
              "      background-color: #3B4455;\n",
              "      fill: #D2E3FC;\n",
              "    }\n",
              "\n",
              "    [theme=dark] .colab-df-convert:hover {\n",
              "      background-color: #434B5C;\n",
              "      box-shadow: 0px 1px 3px 1px rgba(0, 0, 0, 0.15);\n",
              "      filter: drop-shadow(0px 1px 2px rgba(0, 0, 0, 0.3));\n",
              "      fill: #FFFFFF;\n",
              "    }\n",
              "  </style>\n",
              "\n",
              "    <script>\n",
              "      const buttonEl =\n",
              "        document.querySelector('#df-63e6f3ce-c505-4b9c-aa7e-71d94d10ac53 button.colab-df-convert');\n",
              "      buttonEl.style.display =\n",
              "        google.colab.kernel.accessAllowed ? 'block' : 'none';\n",
              "\n",
              "      async function convertToInteractive(key) {\n",
              "        const element = document.querySelector('#df-63e6f3ce-c505-4b9c-aa7e-71d94d10ac53');\n",
              "        const dataTable =\n",
              "          await google.colab.kernel.invokeFunction('convertToInteractive',\n",
              "                                                    [key], {});\n",
              "        if (!dataTable) return;\n",
              "\n",
              "        const docLinkHtml = 'Like what you see? Visit the ' +\n",
              "          '<a target=\"_blank\" href=https://colab.research.google.com/notebooks/data_table.ipynb>data table notebook</a>'\n",
              "          + ' to learn more about interactive tables.';\n",
              "        element.innerHTML = '';\n",
              "        dataTable['output_type'] = 'display_data';\n",
              "        await google.colab.output.renderOutput(dataTable, element);\n",
              "        const docLink = document.createElement('div');\n",
              "        docLink.innerHTML = docLinkHtml;\n",
              "        element.appendChild(docLink);\n",
              "      }\n",
              "    </script>\n",
              "  </div>\n",
              "\n",
              "\n",
              "<div id=\"df-6924f0cc-d5ed-4c63-8df2-1e68e27b457b\">\n",
              "  <button class=\"colab-df-quickchart\" onclick=\"quickchart('df-6924f0cc-d5ed-4c63-8df2-1e68e27b457b')\"\n",
              "            title=\"Suggest charts\"\n",
              "            style=\"display:none;\">\n",
              "\n",
              "<svg xmlns=\"http://www.w3.org/2000/svg\" height=\"24px\"viewBox=\"0 0 24 24\"\n",
              "     width=\"24px\">\n",
              "    <g>\n",
              "        <path d=\"M19 3H5c-1.1 0-2 .9-2 2v14c0 1.1.9 2 2 2h14c1.1 0 2-.9 2-2V5c0-1.1-.9-2-2-2zM9 17H7v-7h2v7zm4 0h-2V7h2v10zm4 0h-2v-4h2v4z\"/>\n",
              "    </g>\n",
              "</svg>\n",
              "  </button>\n",
              "\n",
              "<style>\n",
              "  .colab-df-quickchart {\n",
              "      --bg-color: #E8F0FE;\n",
              "      --fill-color: #1967D2;\n",
              "      --hover-bg-color: #E2EBFA;\n",
              "      --hover-fill-color: #174EA6;\n",
              "      --disabled-fill-color: #AAA;\n",
              "      --disabled-bg-color: #DDD;\n",
              "  }\n",
              "\n",
              "  [theme=dark] .colab-df-quickchart {\n",
              "      --bg-color: #3B4455;\n",
              "      --fill-color: #D2E3FC;\n",
              "      --hover-bg-color: #434B5C;\n",
              "      --hover-fill-color: #FFFFFF;\n",
              "      --disabled-bg-color: #3B4455;\n",
              "      --disabled-fill-color: #666;\n",
              "  }\n",
              "\n",
              "  .colab-df-quickchart {\n",
              "    background-color: var(--bg-color);\n",
              "    border: none;\n",
              "    border-radius: 50%;\n",
              "    cursor: pointer;\n",
              "    display: none;\n",
              "    fill: var(--fill-color);\n",
              "    height: 32px;\n",
              "    padding: 0;\n",
              "    width: 32px;\n",
              "  }\n",
              "\n",
              "  .colab-df-quickchart:hover {\n",
              "    background-color: var(--hover-bg-color);\n",
              "    box-shadow: 0 1px 2px rgba(60, 64, 67, 0.3), 0 1px 3px 1px rgba(60, 64, 67, 0.15);\n",
              "    fill: var(--button-hover-fill-color);\n",
              "  }\n",
              "\n",
              "  .colab-df-quickchart-complete:disabled,\n",
              "  .colab-df-quickchart-complete:disabled:hover {\n",
              "    background-color: var(--disabled-bg-color);\n",
              "    fill: var(--disabled-fill-color);\n",
              "    box-shadow: none;\n",
              "  }\n",
              "\n",
              "  .colab-df-spinner {\n",
              "    border: 2px solid var(--fill-color);\n",
              "    border-color: transparent;\n",
              "    border-bottom-color: var(--fill-color);\n",
              "    animation:\n",
              "      spin 1s steps(1) infinite;\n",
              "  }\n",
              "\n",
              "  @keyframes spin {\n",
              "    0% {\n",
              "      border-color: transparent;\n",
              "      border-bottom-color: var(--fill-color);\n",
              "      border-left-color: var(--fill-color);\n",
              "    }\n",
              "    20% {\n",
              "      border-color: transparent;\n",
              "      border-left-color: var(--fill-color);\n",
              "      border-top-color: var(--fill-color);\n",
              "    }\n",
              "    30% {\n",
              "      border-color: transparent;\n",
              "      border-left-color: var(--fill-color);\n",
              "      border-top-color: var(--fill-color);\n",
              "      border-right-color: var(--fill-color);\n",
              "    }\n",
              "    40% {\n",
              "      border-color: transparent;\n",
              "      border-right-color: var(--fill-color);\n",
              "      border-top-color: var(--fill-color);\n",
              "    }\n",
              "    60% {\n",
              "      border-color: transparent;\n",
              "      border-right-color: var(--fill-color);\n",
              "    }\n",
              "    80% {\n",
              "      border-color: transparent;\n",
              "      border-right-color: var(--fill-color);\n",
              "      border-bottom-color: var(--fill-color);\n",
              "    }\n",
              "    90% {\n",
              "      border-color: transparent;\n",
              "      border-bottom-color: var(--fill-color);\n",
              "    }\n",
              "  }\n",
              "</style>\n",
              "\n",
              "  <script>\n",
              "    async function quickchart(key) {\n",
              "      const quickchartButtonEl =\n",
              "        document.querySelector('#' + key + ' button');\n",
              "      quickchartButtonEl.disabled = true;  // To prevent multiple clicks.\n",
              "      quickchartButtonEl.classList.add('colab-df-spinner');\n",
              "      try {\n",
              "        const charts = await google.colab.kernel.invokeFunction(\n",
              "            'suggestCharts', [key], {});\n",
              "      } catch (error) {\n",
              "        console.error('Error during call to suggestCharts:', error);\n",
              "      }\n",
              "      quickchartButtonEl.classList.remove('colab-df-spinner');\n",
              "      quickchartButtonEl.classList.add('colab-df-quickchart-complete');\n",
              "    }\n",
              "    (() => {\n",
              "      let quickchartButtonEl =\n",
              "        document.querySelector('#df-6924f0cc-d5ed-4c63-8df2-1e68e27b457b button');\n",
              "      quickchartButtonEl.style.display =\n",
              "        google.colab.kernel.accessAllowed ? 'block' : 'none';\n",
              "    })();\n",
              "  </script>\n",
              "</div>\n",
              "    </div>\n",
              "  </div>\n"
            ]
          },
          "metadata": {},
          "execution_count": 2
        }
      ],
      "source": [
        "# Load the dataset\n",
        "file_path = 'surnames.csv'\n",
        "surnames_data = pd.read_csv(file_path)\n",
        "\n",
        "# Display the first few rows\n",
        "surnames_data.head()"
      ]
    },
    {
      "cell_type": "markdown",
      "id": "cb4e62cd",
      "metadata": {
        "id": "cb4e62cd"
      },
      "source": [
        "### Data Preprocessing\n",
        "\n",
        "We need to encode the surnames and nationalities into a numerical format. For surnames, we'll convert each character to its ASCII value. For nationalities, we use label encoding."
      ]
    },
    {
      "cell_type": "code",
      "execution_count": 3,
      "id": "dbf95042",
      "metadata": {
        "id": "dbf95042"
      },
      "outputs": [],
      "source": [
        "\n",
        "# Creating a character set and mapping characters to integers\n",
        "characters = sorted(list(set(''.join(surnames_data['surname']))))\n",
        "char_to_int = dict((c, i) for i, c in enumerate(characters))\n",
        "\n",
        "# Function to convert surname to a sequence of integers\n",
        "def surname_to_int_array(surname):\n",
        "    return [char_to_int[char] for char in surname if char in char_to_int]\n",
        "\n",
        "# Convert surnames to sequences of integers\n",
        "surnames_data['surname_seq'] = surnames_data['surname'].apply(surname_to_int_array)\n",
        "\n",
        "# Find the length of the longest surname\n",
        "max_surname_length = max(surnames_data['surname_seq'].apply(len))\n",
        "\n",
        "# Pad the sequences so that they are all the same length\n",
        "from keras.preprocessing.sequence import pad_sequences\n",
        "surnames_data['surname_padded'] = list(pad_sequences(surnames_data['surname_seq'], maxlen=max_surname_length, padding='post'))\n",
        "\n",
        "# Convert the padded sequences and labels to numpy arrays for training\n",
        "X = np.array(surnames_data['surname_padded'].tolist())\n"
      ]
    },
    {
      "cell_type": "code",
      "source": [
        "# Label encode nationalities\n",
        "label_encoder = LabelEncoder()\n",
        "surnames_data['nationality_encoded'] = label_encoder.fit_transform(surnames_data['nationality'])"
      ],
      "metadata": {
        "id": "zi_vhR4eeRD4"
      },
      "id": "zi_vhR4eeRD4",
      "execution_count": 4,
      "outputs": []
    },
    {
      "cell_type": "code",
      "source": [
        "# One-hot encode the nationality labels\n",
        "y = to_categorical(surnames_data['nationality_encoded'])"
      ],
      "metadata": {
        "id": "23zlz9Gce1lY"
      },
      "id": "23zlz9Gce1lY",
      "execution_count": 5,
      "outputs": []
    },
    {
      "cell_type": "markdown",
      "id": "8030edca",
      "metadata": {
        "id": "8030edca"
      },
      "source": [
        "## Step 3: Split the Data\n",
        "\n",
        "We split the data into training, validation, and test sets."
      ]
    },
    {
      "cell_type": "code",
      "execution_count": 6,
      "id": "3df29349",
      "metadata": {
        "id": "3df29349"
      },
      "outputs": [],
      "source": [
        "\n",
        "# Stratified Split of the Data\n",
        "# We use stratified split to ensure representation of each nationality in all datasets\n",
        "\n",
        "from sklearn.model_selection import StratifiedShuffleSplit\n",
        "\n",
        "# Creating a StratifiedShuffleSplit object\n",
        "strat_split = StratifiedShuffleSplit(n_splits=1, test_size=0.3, random_state=42)\n",
        "\n",
        "# Splitting the data - this will only do one split due to n_splits=1\n",
        "for train_index, temp_index in strat_split.split(X, surnames_data['nationality_encoded']):\n",
        "    X_train, X_temp = X[train_index], X[temp_index]\n",
        "    y_train, y_temp = y[train_index], y[temp_index]\n",
        "\n",
        "# Further split X_temp and y_temp into validation and test sets\n",
        "strat_split_val_test = StratifiedShuffleSplit(n_splits=1, test_size=0.5, random_state=42)\n",
        "for val_index, test_index in strat_split_val_test.split(X_temp, y_temp.argmax(axis=1)):\n",
        "    X_val, X_test = X_temp[val_index], X_temp[test_index]\n",
        "    y_val, y_test = y_temp[val_index], y_temp[test_index]\n"
      ]
    },
    {
      "cell_type": "markdown",
      "id": "30233881",
      "metadata": {
        "id": "30233881"
      },
      "source": [
        "## Step 4: Build the MLP Model\n",
        "\n",
        "We build a simple CNN model using Keras."
      ]
    },
    {
      "cell_type": "code",
      "execution_count": 11,
      "id": "91c9c57e",
      "metadata": {
        "colab": {
          "base_uri": "https://localhost:8080/"
        },
        "id": "91c9c57e",
        "outputId": "05453f08-9aaf-42f4-e24d-e0144671c896"
      },
      "outputs": [
        {
          "output_type": "stream",
          "name": "stdout",
          "text": [
            "Model: \"sequential_2\"\n",
            "_________________________________________________________________\n",
            " Layer (type)                Output Shape              Param #   \n",
            "=================================================================\n",
            " embedding (Embedding)       (None, 17, 50)            4200      \n",
            "                                                                 \n",
            " conv1d (Conv1D)             (None, 15, 64)            9664      \n",
            "                                                                 \n",
            " max_pooling1d (MaxPooling1  (None, 7, 64)             0         \n",
            " D)                                                              \n",
            "                                                                 \n",
            " flatten (Flatten)           (None, 448)               0         \n",
            "                                                                 \n",
            " dense (Dense)               (None, 128)               57472     \n",
            "                                                                 \n",
            " dropout (Dropout)           (None, 128)               0         \n",
            "                                                                 \n",
            " dense_1 (Dense)             (None, 18)                2322      \n",
            "                                                                 \n",
            "=================================================================\n",
            "Total params: 73658 (287.73 KB)\n",
            "Trainable params: 73658 (287.73 KB)\n",
            "Non-trainable params: 0 (0.00 Byte)\n",
            "_________________________________________________________________\n"
          ]
        }
      ],
      "source": [
        "\n",
        "# Define the CNN model\n",
        "model = Sequential()\n",
        "model.add(Embedding(input_dim=len(characters), output_dim=50, input_length=max_surname_length))\n",
        "model.add(Conv1D(filters=64, kernel_size=3, activation='relu'))\n",
        "model.add(MaxPooling1D(pool_size=2))\n",
        "model.add(Flatten())\n",
        "model.add(Dense(128, activation='relu'))\n",
        "model.add(Dropout(0.5))\n",
        "model.add(Dense(y.shape[1], activation='softmax'))\n",
        "\n",
        "# Compile the model\n",
        "model.compile(loss='categorical_crossentropy', optimizer='adam', metrics=['accuracy'])\n",
        "\n",
        "# Model summary\n",
        "model.summary()\n"
      ]
    },
    {
      "cell_type": "markdown",
      "id": "4e588334",
      "metadata": {
        "id": "4e588334"
      },
      "source": [
        "## Step 5: Train the Model\n",
        "\n",
        "We train the model using the training set and validate it on the validation set."
      ]
    },
    {
      "cell_type": "code",
      "execution_count": 12,
      "id": "6c582070",
      "metadata": {
        "colab": {
          "base_uri": "https://localhost:8080/"
        },
        "id": "6c582070",
        "outputId": "14553add-3aff-4ae0-8f06-84eec5e9e0e6"
      },
      "outputs": [
        {
          "output_type": "stream",
          "name": "stdout",
          "text": [
            "Epoch 1/50\n",
            "241/241 [==============================] - 3s 7ms/step - loss: 2.0045 - accuracy: 0.4214 - val_loss: 1.6188 - val_accuracy: 0.5367\n",
            "Epoch 2/50\n",
            "241/241 [==============================] - 2s 7ms/step - loss: 1.4851 - accuracy: 0.5814 - val_loss: 1.3081 - val_accuracy: 0.6248\n",
            "Epoch 3/50\n",
            "241/241 [==============================] - 2s 6ms/step - loss: 1.2406 - accuracy: 0.6546 - val_loss: 1.1613 - val_accuracy: 0.6661\n",
            "Epoch 4/50\n",
            "241/241 [==============================] - 2s 7ms/step - loss: 1.1037 - accuracy: 0.6879 - val_loss: 1.0483 - val_accuracy: 0.7031\n",
            "Epoch 5/50\n",
            "241/241 [==============================] - 2s 9ms/step - loss: 1.0106 - accuracy: 0.7100 - val_loss: 0.9964 - val_accuracy: 0.7146\n",
            "Epoch 6/50\n",
            "241/241 [==============================] - 2s 10ms/step - loss: 0.9434 - accuracy: 0.7244 - val_loss: 0.9379 - val_accuracy: 0.7341\n",
            "Epoch 7/50\n",
            "241/241 [==============================] - 2s 7ms/step - loss: 0.8847 - accuracy: 0.7377 - val_loss: 0.9115 - val_accuracy: 0.7328\n",
            "Epoch 8/50\n",
            "241/241 [==============================] - 2s 6ms/step - loss: 0.8403 - accuracy: 0.7476 - val_loss: 0.8693 - val_accuracy: 0.7432\n",
            "Epoch 9/50\n",
            "241/241 [==============================] - 2s 7ms/step - loss: 0.7999 - accuracy: 0.7553 - val_loss: 0.8475 - val_accuracy: 0.7511\n",
            "Epoch 10/50\n",
            "241/241 [==============================] - 2s 7ms/step - loss: 0.7618 - accuracy: 0.7696 - val_loss: 0.8308 - val_accuracy: 0.7559\n",
            "Epoch 11/50\n",
            "241/241 [==============================] - 2s 7ms/step - loss: 0.7302 - accuracy: 0.7765 - val_loss: 0.8162 - val_accuracy: 0.7583\n",
            "Epoch 12/50\n",
            "241/241 [==============================] - 2s 7ms/step - loss: 0.6931 - accuracy: 0.7855 - val_loss: 0.8026 - val_accuracy: 0.7638\n",
            "Epoch 13/50\n",
            "241/241 [==============================] - 2s 9ms/step - loss: 0.6672 - accuracy: 0.7884 - val_loss: 0.8164 - val_accuracy: 0.7596\n",
            "Epoch 14/50\n",
            "241/241 [==============================] - 3s 14ms/step - loss: 0.6555 - accuracy: 0.7964 - val_loss: 0.8022 - val_accuracy: 0.7693\n",
            "Epoch 15/50\n",
            "241/241 [==============================] - 2s 7ms/step - loss: 0.6250 - accuracy: 0.7977 - val_loss: 0.7924 - val_accuracy: 0.7644\n",
            "Epoch 16/50\n",
            "241/241 [==============================] - 2s 7ms/step - loss: 0.6082 - accuracy: 0.8063 - val_loss: 0.8049 - val_accuracy: 0.7632\n",
            "Epoch 17/50\n",
            "241/241 [==============================] - 3s 12ms/step - loss: 0.5840 - accuracy: 0.8124 - val_loss: 0.7894 - val_accuracy: 0.7681\n",
            "Epoch 18/50\n",
            "241/241 [==============================] - 3s 14ms/step - loss: 0.5553 - accuracy: 0.8169 - val_loss: 0.8103 - val_accuracy: 0.7656\n",
            "Epoch 19/50\n",
            "241/241 [==============================] - 4s 15ms/step - loss: 0.5472 - accuracy: 0.8221 - val_loss: 0.7979 - val_accuracy: 0.7687\n",
            "Epoch 20/50\n",
            "241/241 [==============================] - 3s 14ms/step - loss: 0.5394 - accuracy: 0.8229 - val_loss: 0.8035 - val_accuracy: 0.7675\n",
            "Epoch 21/50\n",
            "241/241 [==============================] - 3s 12ms/step - loss: 0.5135 - accuracy: 0.8350 - val_loss: 0.8123 - val_accuracy: 0.7681\n",
            "Epoch 22/50\n",
            "241/241 [==============================] - 3s 11ms/step - loss: 0.5063 - accuracy: 0.8393 - val_loss: 0.8126 - val_accuracy: 0.7711\n",
            "Epoch 23/50\n",
            "241/241 [==============================] - 2s 7ms/step - loss: 0.4903 - accuracy: 0.8402 - val_loss: 0.8260 - val_accuracy: 0.7711\n",
            "Epoch 24/50\n",
            "241/241 [==============================] - 2s 7ms/step - loss: 0.4714 - accuracy: 0.8456 - val_loss: 0.8350 - val_accuracy: 0.7699\n",
            "Epoch 25/50\n",
            "241/241 [==============================] - 2s 10ms/step - loss: 0.4627 - accuracy: 0.8434 - val_loss: 0.8344 - val_accuracy: 0.7620\n",
            "Epoch 26/50\n",
            "241/241 [==============================] - 2s 10ms/step - loss: 0.4514 - accuracy: 0.8475 - val_loss: 0.8400 - val_accuracy: 0.7668\n",
            "Epoch 27/50\n",
            "241/241 [==============================] - 2s 6ms/step - loss: 0.4427 - accuracy: 0.8526 - val_loss: 0.8673 - val_accuracy: 0.7662\n",
            "Epoch 28/50\n",
            "241/241 [==============================] - 2s 6ms/step - loss: 0.4340 - accuracy: 0.8551 - val_loss: 0.8773 - val_accuracy: 0.7644\n",
            "Epoch 29/50\n",
            "241/241 [==============================] - 2s 6ms/step - loss: 0.4144 - accuracy: 0.8601 - val_loss: 0.8757 - val_accuracy: 0.7675\n",
            "Epoch 30/50\n",
            "241/241 [==============================] - 2s 7ms/step - loss: 0.3980 - accuracy: 0.8694 - val_loss: 0.8702 - val_accuracy: 0.7656\n",
            "Epoch 31/50\n",
            "241/241 [==============================] - 2s 7ms/step - loss: 0.3912 - accuracy: 0.8647 - val_loss: 0.9121 - val_accuracy: 0.7662\n",
            "Epoch 32/50\n",
            "241/241 [==============================] - 2s 7ms/step - loss: 0.3972 - accuracy: 0.8668 - val_loss: 0.9368 - val_accuracy: 0.7699\n",
            "Epoch 33/50\n",
            "241/241 [==============================] - 2s 10ms/step - loss: 0.3807 - accuracy: 0.8705 - val_loss: 0.9267 - val_accuracy: 0.7723\n",
            "Epoch 34/50\n",
            "241/241 [==============================] - 2s 9ms/step - loss: 0.3740 - accuracy: 0.8746 - val_loss: 0.9358 - val_accuracy: 0.7620\n",
            "Epoch 35/50\n",
            "241/241 [==============================] - 2s 7ms/step - loss: 0.3651 - accuracy: 0.8751 - val_loss: 0.9424 - val_accuracy: 0.7632\n",
            "Epoch 36/50\n",
            "241/241 [==============================] - 2s 7ms/step - loss: 0.3562 - accuracy: 0.8752 - val_loss: 0.9415 - val_accuracy: 0.7729\n",
            "Epoch 37/50\n",
            "241/241 [==============================] - 2s 7ms/step - loss: 0.3384 - accuracy: 0.8843 - val_loss: 0.9935 - val_accuracy: 0.7626\n",
            "Epoch 38/50\n",
            "241/241 [==============================] - 2s 7ms/step - loss: 0.3390 - accuracy: 0.8830 - val_loss: 0.9699 - val_accuracy: 0.7608\n",
            "Epoch 39/50\n",
            "241/241 [==============================] - 2s 7ms/step - loss: 0.3404 - accuracy: 0.8807 - val_loss: 0.9674 - val_accuracy: 0.7687\n",
            "Epoch 40/50\n",
            "241/241 [==============================] - 2s 7ms/step - loss: 0.3178 - accuracy: 0.8890 - val_loss: 1.0054 - val_accuracy: 0.7675\n",
            "Epoch 41/50\n",
            "241/241 [==============================] - 2s 10ms/step - loss: 0.3344 - accuracy: 0.8838 - val_loss: 0.9871 - val_accuracy: 0.7632\n",
            "Epoch 42/50\n",
            "241/241 [==============================] - 2s 10ms/step - loss: 0.3163 - accuracy: 0.8911 - val_loss: 1.0300 - val_accuracy: 0.7650\n",
            "Epoch 43/50\n",
            "241/241 [==============================] - 2s 7ms/step - loss: 0.3156 - accuracy: 0.8881 - val_loss: 1.0521 - val_accuracy: 0.7559\n",
            "Epoch 44/50\n",
            "241/241 [==============================] - 2s 7ms/step - loss: 0.3069 - accuracy: 0.8919 - val_loss: 1.0215 - val_accuracy: 0.7577\n",
            "Epoch 45/50\n",
            "241/241 [==============================] - 2s 6ms/step - loss: 0.3147 - accuracy: 0.8890 - val_loss: 1.0325 - val_accuracy: 0.7608\n",
            "Epoch 46/50\n",
            "241/241 [==============================] - 2s 7ms/step - loss: 0.2958 - accuracy: 0.8962 - val_loss: 1.0717 - val_accuracy: 0.7614\n",
            "Epoch 47/50\n",
            "241/241 [==============================] - 2s 7ms/step - loss: 0.2913 - accuracy: 0.8985 - val_loss: 1.0783 - val_accuracy: 0.7687\n",
            "Epoch 48/50\n",
            "241/241 [==============================] - 2s 7ms/step - loss: 0.2818 - accuracy: 0.9003 - val_loss: 1.0833 - val_accuracy: 0.7577\n",
            "Epoch 49/50\n",
            "241/241 [==============================] - 2s 10ms/step - loss: 0.2808 - accuracy: 0.8971 - val_loss: 1.1154 - val_accuracy: 0.7620\n",
            "Epoch 50/50\n",
            "241/241 [==============================] - 2s 10ms/step - loss: 0.2773 - accuracy: 0.9031 - val_loss: 1.1156 - val_accuracy: 0.7644\n"
          ]
        }
      ],
      "source": [
        "# Train the model\n",
        "history = model.fit(X_train, y_train, epochs=50, batch_size=32, validation_data=(X_val, y_val))"
      ]
    },
    {
      "cell_type": "code",
      "source": [
        "import matplotlib.pyplot as plt\n",
        "\n",
        "# Plotting training & validation accuracy values\n",
        "plt.figure(figsize=(12, 5))\n",
        "\n",
        "# Subplot for accuracy\n",
        "plt.subplot(1, 2, 1)\n",
        "plt.plot(history.history['accuracy'])\n",
        "plt.plot(history.history['val_accuracy'])\n",
        "plt.title('Model Accuracy')\n",
        "plt.ylabel('Accuracy')\n",
        "plt.xlabel('Epoch')\n",
        "plt.legend(['Train', 'Validation'], loc='upper left')\n",
        "\n",
        "# Subplot for loss\n",
        "plt.subplot(1, 2, 2)\n",
        "plt.plot(history.history['loss'])\n",
        "plt.plot(history.history['val_loss'])\n",
        "plt.title('Model Loss')\n",
        "plt.ylabel('Loss')\n",
        "plt.xlabel('Epoch')\n",
        "plt.legend(['Train', 'Validation'], loc='upper left')\n",
        "\n",
        "plt.show()\n"
      ],
      "metadata": {
        "colab": {
          "base_uri": "https://localhost:8080/",
          "height": 431
        },
        "id": "4MM2zByGf3LB",
        "outputId": "cb2e99fd-3ddb-482c-f43d-ddc0e380ffa2"
      },
      "id": "4MM2zByGf3LB",
      "execution_count": 13,
      "outputs": [
        {
          "output_type": "display_data",
          "data": {
            "text/plain": [
              "<Figure size 1200x500 with 2 Axes>"
            ],
            "image/png": "[encoded data removed]"
          },
          "metadata": {}
        }
      ]
    },
    {
      "cell_type": "markdown",
      "id": "9802c367",
      "metadata": {
        "id": "9802c367"
      },
      "source": [
        "## Step 6: Evaluate the Model\n",
        "\n",
        "Evaluate the model's performance on the test set."
      ]
    },
    {
      "cell_type": "code",
      "execution_count": 14,
      "id": "e73ab849",
      "metadata": {
        "colab": {
          "base_uri": "https://localhost:8080/"
        },
        "id": "e73ab849",
        "outputId": "9f8cc227-2be0-40ac-b318-1a1a3a97c638"
      },
      "outputs": [
        {
          "output_type": "stream",
          "name": "stdout",
          "text": [
            "52/52 [==============================] - 0s 3ms/step - loss: 1.1952 - accuracy: 0.7608\n",
            "Test Accuracy: 76.08%\n"
          ]
        }
      ],
      "source": [
        "# Evaluate the model\n",
        "test_loss, test_accuracy = model.evaluate(X_test, y_test)\n",
        "print(f\"Test Accuracy: {test_accuracy*100:.2f}%\")"
      ]
    },
    {
      "cell_type": "markdown",
      "id": "3c3a5d3c",
      "metadata": {
        "id": "3c3a5d3c"
      },
      "source": [
        "## Step 7: Save the Model (Optional)\n",
        "\n",
        "Optionally, we can save the model for future use."
      ]
    },
    {
      "cell_type": "code",
      "execution_count": null,
      "id": "14ee45e0",
      "metadata": {
        "id": "14ee45e0"
      },
      "outputs": [],
      "source": [
        "# Save the model\n",
        "model.save('CNN_surname_nationality_classifier.h5')"
      ]
    },
    {
      "cell_type": "markdown",
      "source": [
        "TODO: Give a surname to the model and ask the model to predict the nationality of it."
      ],
      "metadata": {
        "id": "r23cQfRdgQGT"
      },
      "id": "r23cQfRdgQGT"
    },
    {
      "cell_type": "markdown",
      "source": [
        "TODO: change the architecture of the model to reduce the overfitting"
      ],
      "metadata": {
        "id": "B0gZlsuFhRTR"
      },
      "id": "B0gZlsuFhRTR"
    }
  ],
  "metadata": {
    "colab": {
      "provenance": [],
      "include_colab_link": true
    },
    "language_info": {
      "name": "python"
    },
    "kernelspec": {
      "name": "python3",
      "display_name": "Python 3"
    }
  },
  "nbformat": 4,
  "nbformat_minor": 5
}