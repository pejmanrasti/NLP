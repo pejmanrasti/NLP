{
  "cells": [
    {
      "cell_type": "markdown",
      "metadata": {
        "id": "view-in-github",
        "colab_type": "text"
      },
      "source": [
        "<a href=\"https://colab.research.google.com/github/pejmanrasti/NLP/blob/main/3_MLP_surname_classifier.ipynb\" target=\"_parent\"><img src=\"https://colab.research.google.com/assets/colab-badge.svg\" alt=\"Open In Colab\"/></a>"
      ]
    },
    {
      "cell_type": "markdown",
      "id": "6b2b64e7",
      "metadata": {
        "id": "6b2b64e7"
      },
      "source": [
        "# Multi-Layer Perceptron (MLP) for Surname Nationality Classification\n",
        "\n",
        "This notebook demonstrates how to build and train a Multi-Layer Perceptron (MLP) to classify surnames based on their nationalities using a dataset of surnames and corresponding nationalities."
      ]
    },
    {
      "cell_type": "code",
      "execution_count": 1,
      "id": "565b673c",
      "metadata": {
        "id": "565b673c"
      },
      "outputs": [],
      "source": [
        "import pandas as pd\n",
        "import numpy as np\n",
        "from sklearn.model_selection import train_test_split\n",
        "from sklearn.preprocessing import LabelEncoder\n",
        "from keras.models import Sequential\n",
        "from keras.layers import Dense, Dropout, Flatten\n",
        "from tensorflow.keras.utils import to_categorical"
      ]
    },
    {
      "cell_type": "markdown",
      "id": "dcd2f079",
      "metadata": {
        "id": "dcd2f079"
      },
      "source": [
        "## Step 2: Load and Preprocess the Data\n",
        "\n",
        "The dataset is loaded into a Pandas DataFrame. We need to preprocess this data for our neural network."
      ]
    },
    {
      "cell_type": "code",
      "execution_count": 2,
      "id": "54c50e8c",
      "metadata": {
        "colab": {
          "base_uri": "https://localhost:8080/",
          "height": 226
        },
        "id": "54c50e8c",
        "outputId": "a8d4505c-0205-4ccc-c5db-2049ecad1b2e"
      },
      "outputs": [
        {
          "output_type": "execute_result",
          "data": {
            "text/plain": [
              "    surname nationality\n",
              "0  Woodford     English\n",
              "1      Coté      French\n",
              "2      Kore     English\n",
              "3     Koury      Arabic\n",
              "4    Lebzak     Russian"
            ],
            "text/html": [
              "\n",
              "  <div id=\"df-1a82002c-0405-40aa-afe1-d58c6f1a6122\" class=\"colab-df-container\">\n",
              "    <div>\n",
              "<style scoped>\n",
              "    .dataframe tbody tr th:only-of-type {\n",
              "        vertical-align: middle;\n",
              "    }\n",
              "\n",
              "    .dataframe tbody tr th {\n",
              "        vertical-align: top;\n",
              "    }\n",
              "\n",
              "    .dataframe thead th {\n",
              "        text-align: right;\n",
              "    }\n",
              "</style>\n",
              "<table border=\"1\" class=\"dataframe\">\n",
              "  <thead>\n",
              "    <tr style=\"text-align: right;\">\n",
              "      <th></th>\n",
              "      <th>surname</th>\n",
              "      <th>nationality</th>\n",
              "    </tr>\n",
              "  </thead>\n",
              "  <tbody>\n",
              "    <tr>\n",
              "      <th>0</th>\n",
              "      <td>Woodford</td>\n",
              "      <td>English</td>\n",
              "    </tr>\n",
              "    <tr>\n",
              "      <th>1</th>\n",
              "      <td>Coté</td>\n",
              "      <td>French</td>\n",
              "    </tr>\n",
              "    <tr>\n",
              "      <th>2</th>\n",
              "      <td>Kore</td>\n",
              "      <td>English</td>\n",
              "    </tr>\n",
              "    <tr>\n",
              "      <th>3</th>\n",
              "      <td>Koury</td>\n",
              "      <td>Arabic</td>\n",
              "    </tr>\n",
              "    <tr>\n",
              "      <th>4</th>\n",
              "      <td>Lebzak</td>\n",
              "      <td>Russian</td>\n",
              "    </tr>\n",
              "  </tbody>\n",
              "</table>\n",
              "</div>\n",
              "    <div class=\"colab-df-buttons\">\n",
              "\n",
              "  <div class=\"colab-df-container\">\n",
              "    <button class=\"colab-df-convert\" onclick=\"convertToInteractive('df-1a82002c-0405-40aa-afe1-d58c6f1a6122')\"\n",
              "            title=\"Convert this dataframe to an interactive table.\"\n",
              "            style=\"display:none;\">\n",
              "\n",
              "  <svg xmlns=\"http://www.w3.org/2000/svg\" height=\"24px\" viewBox=\"0 -960 960 960\">\n",
              "    <path d=\"M120-120v-720h720v720H120Zm60-500h600v-160H180v160Zm220 220h160v-160H400v160Zm0 220h160v-160H400v160ZM180-400h160v-160H180v160Zm440 0h160v-160H620v160ZM180-180h160v-160H180v160Zm440 0h160v-160H620v160Z\"/>\n",
              "  </svg>\n",
              "    </button>\n",
              "\n",
              "  <style>\n",
              "    .colab-df-container {\n",
              "      display:flex;\n",
              "      gap: 12px;\n",
              "    }\n",
              "\n",
              "    .colab-df-convert {\n",
              "      background-color: #E8F0FE;\n",
              "      border: none;\n",
              "      border-radius: 50%;\n",
              "      cursor: pointer;\n",
              "      display: none;\n",
              "      fill: #1967D2;\n",
              "      height: 32px;\n",
              "      padding: 0 0 0 0;\n",
              "      width: 32px;\n",
              "    }\n",
              "\n",
              "    .colab-df-convert:hover {\n",
              "      background-color: #E2EBFA;\n",
              "      box-shadow: 0px 1px 2px rgba(60, 64, 67, 0.3), 0px 1px 3px 1px rgba(60, 64, 67, 0.15);\n",
              "      fill: #174EA6;\n",
              "    }\n",
              "\n",
              "    .colab-df-buttons div {\n",
              "      margin-bottom: 4px;\n",
              "    }\n",
              "\n",
              "    [theme=dark] .colab-df-convert {\n",
              "      background-color: #3B4455;\n",
              "      fill: #D2E3FC;\n",
              "    }\n",
              "\n",
              "    [theme=dark] .colab-df-convert:hover {\n",
              "      background-color: #434B5C;\n",
              "      box-shadow: 0px 1px 3px 1px rgba(0, 0, 0, 0.15);\n",
              "      filter: drop-shadow(0px 1px 2px rgba(0, 0, 0, 0.3));\n",
              "      fill: #FFFFFF;\n",
              "    }\n",
              "  </style>\n",
              "\n",
              "    <script>\n",
              "      const buttonEl =\n",
              "        document.querySelector('#df-1a82002c-0405-40aa-afe1-d58c6f1a6122 button.colab-df-convert');\n",
              "      buttonEl.style.display =\n",
              "        google.colab.kernel.accessAllowed ? 'block' : 'none';\n",
              "\n",
              "      async function convertToInteractive(key) {\n",
              "        const element = document.querySelector('#df-1a82002c-0405-40aa-afe1-d58c6f1a6122');\n",
              "        const dataTable =\n",
              "          await google.colab.kernel.invokeFunction('convertToInteractive',\n",
              "                                                    [key], {});\n",
              "        if (!dataTable) return;\n",
              "\n",
              "        const docLinkHtml = 'Like what you see? Visit the ' +\n",
              "          '<a target=\"_blank\" href=https://colab.research.google.com/notebooks/data_table.ipynb>data table notebook</a>'\n",
              "          + ' to learn more about interactive tables.';\n",
              "        element.innerHTML = '';\n",
              "        dataTable['output_type'] = 'display_data';\n",
              "        await google.colab.output.renderOutput(dataTable, element);\n",
              "        const docLink = document.createElement('div');\n",
              "        docLink.innerHTML = docLinkHtml;\n",
              "        element.appendChild(docLink);\n",
              "      }\n",
              "    </script>\n",
              "  </div>\n",
              "\n",
              "\n",
              "<div id=\"df-6939c5f4-4eae-4994-9995-d935e5b209b9\">\n",
              "  <button class=\"colab-df-quickchart\" onclick=\"quickchart('df-6939c5f4-4eae-4994-9995-d935e5b209b9')\"\n",
              "            title=\"Suggest charts\"\n",
              "            style=\"display:none;\">\n",
              "\n",
              "<svg xmlns=\"http://www.w3.org/2000/svg\" height=\"24px\"viewBox=\"0 0 24 24\"\n",
              "     width=\"24px\">\n",
              "    <g>\n",
              "        <path d=\"M19 3H5c-1.1 0-2 .9-2 2v14c0 1.1.9 2 2 2h14c1.1 0 2-.9 2-2V5c0-1.1-.9-2-2-2zM9 17H7v-7h2v7zm4 0h-2V7h2v10zm4 0h-2v-4h2v4z\"/>\n",
              "    </g>\n",
              "</svg>\n",
              "  </button>\n",
              "\n",
              "<style>\n",
              "  .colab-df-quickchart {\n",
              "      --bg-color: #E8F0FE;\n",
              "      --fill-color: #1967D2;\n",
              "      --hover-bg-color: #E2EBFA;\n",
              "      --hover-fill-color: #174EA6;\n",
              "      --disabled-fill-color: #AAA;\n",
              "      --disabled-bg-color: #DDD;\n",
              "  }\n",
              "\n",
              "  [theme=dark] .colab-df-quickchart {\n",
              "      --bg-color: #3B4455;\n",
              "      --fill-color: #D2E3FC;\n",
              "      --hover-bg-color: #434B5C;\n",
              "      --hover-fill-color: #FFFFFF;\n",
              "      --disabled-bg-color: #3B4455;\n",
              "      --disabled-fill-color: #666;\n",
              "  }\n",
              "\n",
              "  .colab-df-quickchart {\n",
              "    background-color: var(--bg-color);\n",
              "    border: none;\n",
              "    border-radius: 50%;\n",
              "    cursor: pointer;\n",
              "    display: none;\n",
              "    fill: var(--fill-color);\n",
              "    height: 32px;\n",
              "    padding: 0;\n",
              "    width: 32px;\n",
              "  }\n",
              "\n",
              "  .colab-df-quickchart:hover {\n",
              "    background-color: var(--hover-bg-color);\n",
              "    box-shadow: 0 1px 2px rgba(60, 64, 67, 0.3), 0 1px 3px 1px rgba(60, 64, 67, 0.15);\n",
              "    fill: var(--button-hover-fill-color);\n",
              "  }\n",
              "\n",
              "  .colab-df-quickchart-complete:disabled,\n",
              "  .colab-df-quickchart-complete:disabled:hover {\n",
              "    background-color: var(--disabled-bg-color);\n",
              "    fill: var(--disabled-fill-color);\n",
              "    box-shadow: none;\n",
              "  }\n",
              "\n",
              "  .colab-df-spinner {\n",
              "    border: 2px solid var(--fill-color);\n",
              "    border-color: transparent;\n",
              "    border-bottom-color: var(--fill-color);\n",
              "    animation:\n",
              "      spin 1s steps(1) infinite;\n",
              "  }\n",
              "\n",
              "  @keyframes spin {\n",
              "    0% {\n",
              "      border-color: transparent;\n",
              "      border-bottom-color: var(--fill-color);\n",
              "      border-left-color: var(--fill-color);\n",
              "    }\n",
              "    20% {\n",
              "      border-color: transparent;\n",
              "      border-left-color: var(--fill-color);\n",
              "      border-top-color: var(--fill-color);\n",
              "    }\n",
              "    30% {\n",
              "      border-color: transparent;\n",
              "      border-left-color: var(--fill-color);\n",
              "      border-top-color: var(--fill-color);\n",
              "      border-right-color: var(--fill-color);\n",
              "    }\n",
              "    40% {\n",
              "      border-color: transparent;\n",
              "      border-right-color: var(--fill-color);\n",
              "      border-top-color: var(--fill-color);\n",
              "    }\n",
              "    60% {\n",
              "      border-color: transparent;\n",
              "      border-right-color: var(--fill-color);\n",
              "    }\n",
              "    80% {\n",
              "      border-color: transparent;\n",
              "      border-right-color: var(--fill-color);\n",
              "      border-bottom-color: var(--fill-color);\n",
              "    }\n",
              "    90% {\n",
              "      border-color: transparent;\n",
              "      border-bottom-color: var(--fill-color);\n",
              "    }\n",
              "  }\n",
              "</style>\n",
              "\n",
              "  <script>\n",
              "    async function quickchart(key) {\n",
              "      const quickchartButtonEl =\n",
              "        document.querySelector('#' + key + ' button');\n",
              "      quickchartButtonEl.disabled = true;  // To prevent multiple clicks.\n",
              "      quickchartButtonEl.classList.add('colab-df-spinner');\n",
              "      try {\n",
              "        const charts = await google.colab.kernel.invokeFunction(\n",
              "            'suggestCharts', [key], {});\n",
              "      } catch (error) {\n",
              "        console.error('Error during call to suggestCharts:', error);\n",
              "      }\n",
              "      quickchartButtonEl.classList.remove('colab-df-spinner');\n",
              "      quickchartButtonEl.classList.add('colab-df-quickchart-complete');\n",
              "    }\n",
              "    (() => {\n",
              "      let quickchartButtonEl =\n",
              "        document.querySelector('#df-6939c5f4-4eae-4994-9995-d935e5b209b9 button');\n",
              "      quickchartButtonEl.style.display =\n",
              "        google.colab.kernel.accessAllowed ? 'block' : 'none';\n",
              "    })();\n",
              "  </script>\n",
              "</div>\n",
              "    </div>\n",
              "  </div>\n"
            ]
          },
          "metadata": {},
          "execution_count": 2
        }
      ],
      "source": [
        "# Load the dataset\n",
        "file_path = 'surnames.csv'\n",
        "surnames_data = pd.read_csv(file_path)\n",
        "\n",
        "# Display the first few rows\n",
        "surnames_data.head()"
      ]
    },
    {
      "cell_type": "markdown",
      "id": "cb4e62cd",
      "metadata": {
        "id": "cb4e62cd"
      },
      "source": [
        "### Data Preprocessing\n",
        "\n",
        "We need to encode the surnames and nationalities into a numerical format. For surnames, we'll convert each character to its ASCII value. For nationalities, we use label encoding."
      ]
    },
    {
      "cell_type": "code",
      "execution_count": 3,
      "id": "dbf95042",
      "metadata": {
        "id": "dbf95042"
      },
      "outputs": [],
      "source": [
        "\n",
        "# Creating a character set and mapping characters to integers\n",
        "characters = sorted(list(set(''.join(surnames_data['surname']))))\n",
        "char_to_int = dict((c, i) for i, c in enumerate(characters))\n",
        "\n",
        "# Function to convert surname to a sequence of integers\n",
        "def surname_to_int_array(surname):\n",
        "    return [char_to_int[char] for char in surname if char in char_to_int]\n",
        "\n",
        "# Convert surnames to sequences of integers\n",
        "surnames_data['surname_seq'] = surnames_data['surname'].apply(surname_to_int_array)\n",
        "\n",
        "# Find the length of the longest surname\n",
        "max_surname_length = max(surnames_data['surname_seq'].apply(len))\n",
        "\n",
        "# Pad the sequences so that they are all the same length\n",
        "from keras.preprocessing.sequence import pad_sequences\n",
        "surnames_data['surname_padded'] = list(pad_sequences(surnames_data['surname_seq'], maxlen=max_surname_length, padding='post'))\n",
        "\n",
        "# Convert the padded sequences and labels to numpy arrays for training\n",
        "X = np.array(surnames_data['surname_padded'].tolist())\n"
      ]
    },
    {
      "cell_type": "code",
      "source": [
        "# Label encode nationalities\n",
        "label_encoder = LabelEncoder()\n",
        "surnames_data['nationality_encoded'] = label_encoder.fit_transform(surnames_data['nationality'])"
      ],
      "metadata": {
        "id": "zi_vhR4eeRD4"
      },
      "id": "zi_vhR4eeRD4",
      "execution_count": 4,
      "outputs": []
    },
    {
      "cell_type": "code",
      "source": [
        "# One-hot encode the nationality labels\n",
        "y = to_categorical(surnames_data['nationality_encoded'])"
      ],
      "metadata": {
        "id": "23zlz9Gce1lY"
      },
      "id": "23zlz9Gce1lY",
      "execution_count": 5,
      "outputs": []
    },
    {
      "cell_type": "markdown",
      "id": "8030edca",
      "metadata": {
        "id": "8030edca"
      },
      "source": [
        "## Step 3: Split the Data\n",
        "\n",
        "We split the data into training, validation, and test sets."
      ]
    },
    {
      "cell_type": "code",
      "execution_count": 6,
      "id": "3df29349",
      "metadata": {
        "id": "3df29349"
      },
      "outputs": [],
      "source": [
        "\n",
        "# Stratified Split of the Data\n",
        "# We use stratified split to ensure representation of each nationality in all datasets\n",
        "\n",
        "from sklearn.model_selection import StratifiedShuffleSplit\n",
        "\n",
        "# Creating a StratifiedShuffleSplit object\n",
        "strat_split = StratifiedShuffleSplit(n_splits=1, test_size=0.3, random_state=42)\n",
        "\n",
        "# Splitting the data - this will only do one split due to n_splits=1\n",
        "for train_index, temp_index in strat_split.split(X, surnames_data['nationality_encoded']):\n",
        "    X_train, X_temp = X[train_index], X[temp_index]\n",
        "    y_train, y_temp = y[train_index], y[temp_index]\n",
        "\n",
        "# Further split X_temp and y_temp into validation and test sets\n",
        "strat_split_val_test = StratifiedShuffleSplit(n_splits=1, test_size=0.5, random_state=42)\n",
        "for val_index, test_index in strat_split_val_test.split(X_temp, y_temp.argmax(axis=1)):\n",
        "    X_val, X_test = X_temp[val_index], X_temp[test_index]\n",
        "    y_val, y_test = y_temp[val_index], y_temp[test_index]\n"
      ]
    },
    {
      "cell_type": "markdown",
      "id": "30233881",
      "metadata": {
        "id": "30233881"
      },
      "source": [
        "## Step 4: Build the MLP Model\n",
        "\n",
        "We build a simple MLP model using Keras."
      ]
    },
    {
      "cell_type": "code",
      "execution_count": 7,
      "id": "91c9c57e",
      "metadata": {
        "colab": {
          "base_uri": "https://localhost:8080/"
        },
        "id": "91c9c57e",
        "outputId": "ac65bfec-3e36-452e-e1bb-d8785e2034b8"
      },
      "outputs": [
        {
          "output_type": "stream",
          "name": "stdout",
          "text": [
            "Model: \"sequential\"\n",
            "_________________________________________________________________\n",
            " Layer (type)                Output Shape              Param #   \n",
            "=================================================================\n",
            " embedding (Embedding)       (None, 17, 50)            4200      \n",
            "                                                                 \n",
            " flatten (Flatten)           (None, 850)               0         \n",
            "                                                                 \n",
            " dense (Dense)               (None, 128)               108928    \n",
            "                                                                 \n",
            " dropout (Dropout)           (None, 128)               0         \n",
            "                                                                 \n",
            " dense_1 (Dense)             (None, 64)                8256      \n",
            "                                                                 \n",
            " dense_2 (Dense)             (None, 18)                1170      \n",
            "                                                                 \n",
            "=================================================================\n",
            "Total params: 122554 (478.73 KB)\n",
            "Trainable params: 122554 (478.73 KB)\n",
            "Non-trainable params: 0 (0.00 Byte)\n",
            "_________________________________________________________________\n"
          ]
        }
      ],
      "source": [
        "# Update the MLP model to include an Embedding layer\n",
        "from keras.layers import Embedding\n",
        "\n",
        "# Define the model\n",
        "model = Sequential()\n",
        "model.add(Embedding(input_dim=len(characters), output_dim=50, input_length=max_surname_length))\n",
        "model.add(Flatten())  # Flatten the output of the embedding layer\n",
        "model.add(Dense(128, activation='relu'))\n",
        "model.add(Dropout(0.5))\n",
        "model.add(Dense(64, activation='relu'))\n",
        "model.add(Dense(y.shape[1], activation='softmax'))\n",
        "\n",
        "# Compile the model\n",
        "model.compile(loss='categorical_crossentropy', optimizer='adam', metrics=['accuracy'])\n",
        "\n",
        "# Model summary\n",
        "model.summary()"
      ]
    },
    {
      "cell_type": "markdown",
      "id": "4e588334",
      "metadata": {
        "id": "4e588334"
      },
      "source": [
        "## Step 5: Train the Model\n",
        "\n",
        "We train the model using the training set and validate it on the validation set."
      ]
    },
    {
      "cell_type": "code",
      "execution_count": 8,
      "id": "6c582070",
      "metadata": {
        "colab": {
          "base_uri": "https://localhost:8080/"
        },
        "id": "6c582070",
        "outputId": "36cf01ab-c47c-43a9-dde8-ab0d03f9b958"
      },
      "outputs": [
        {
          "output_type": "stream",
          "name": "stdout",
          "text": [
            "Epoch 1/50\n",
            "241/241 [==============================] - 7s 17ms/step - loss: 2.0684 - accuracy: 0.3964 - val_loss: 1.7000 - val_accuracy: 0.5203\n",
            "Epoch 2/50\n",
            "241/241 [==============================] - 5s 20ms/step - loss: 1.5956 - accuracy: 0.5522 - val_loss: 1.4819 - val_accuracy: 0.5701\n",
            "Epoch 3/50\n",
            "241/241 [==============================] - 4s 16ms/step - loss: 1.3914 - accuracy: 0.6011 - val_loss: 1.2937 - val_accuracy: 0.6193\n",
            "Epoch 4/50\n",
            "241/241 [==============================] - 2s 7ms/step - loss: 1.2441 - accuracy: 0.6353 - val_loss: 1.2131 - val_accuracy: 0.6472\n",
            "Epoch 5/50\n",
            "241/241 [==============================] - 2s 6ms/step - loss: 1.1511 - accuracy: 0.6655 - val_loss: 1.1364 - val_accuracy: 0.6576\n",
            "Epoch 6/50\n",
            "241/241 [==============================] - 1s 6ms/step - loss: 1.0679 - accuracy: 0.6853 - val_loss: 1.0832 - val_accuracy: 0.6758\n",
            "Epoch 7/50\n",
            "241/241 [==============================] - 2s 7ms/step - loss: 1.0317 - accuracy: 0.6944 - val_loss: 1.0488 - val_accuracy: 0.6934\n",
            "Epoch 8/50\n",
            "241/241 [==============================] - 2s 7ms/step - loss: 0.9635 - accuracy: 0.7121 - val_loss: 1.0204 - val_accuracy: 0.6922\n",
            "Epoch 9/50\n",
            "241/241 [==============================] - 3s 11ms/step - loss: 0.9148 - accuracy: 0.7222 - val_loss: 1.0018 - val_accuracy: 0.7007\n",
            "Epoch 10/50\n",
            "241/241 [==============================] - 3s 11ms/step - loss: 0.8933 - accuracy: 0.7315 - val_loss: 0.9901 - val_accuracy: 0.7019\n",
            "Epoch 11/50\n",
            "241/241 [==============================] - 2s 9ms/step - loss: 0.8468 - accuracy: 0.7416 - val_loss: 0.9645 - val_accuracy: 0.7067\n",
            "Epoch 12/50\n",
            "241/241 [==============================] - 3s 13ms/step - loss: 0.8251 - accuracy: 0.7458 - val_loss: 0.9731 - val_accuracy: 0.7080\n",
            "Epoch 13/50\n",
            "241/241 [==============================] - 4s 15ms/step - loss: 0.7999 - accuracy: 0.7536 - val_loss: 0.9528 - val_accuracy: 0.7055\n",
            "Epoch 14/50\n",
            "241/241 [==============================] - 5s 19ms/step - loss: 0.7762 - accuracy: 0.7589 - val_loss: 0.9579 - val_accuracy: 0.7086\n",
            "Epoch 15/50\n",
            "241/241 [==============================] - 4s 15ms/step - loss: 0.7649 - accuracy: 0.7609 - val_loss: 0.9463 - val_accuracy: 0.7237\n",
            "Epoch 16/50\n",
            "241/241 [==============================] - 4s 15ms/step - loss: 0.7362 - accuracy: 0.7683 - val_loss: 0.9439 - val_accuracy: 0.7231\n",
            "Epoch 17/50\n",
            "241/241 [==============================] - 3s 11ms/step - loss: 0.7058 - accuracy: 0.7783 - val_loss: 0.9435 - val_accuracy: 0.7213\n",
            "Epoch 18/50\n",
            "241/241 [==============================] - 2s 7ms/step - loss: 0.6865 - accuracy: 0.7840 - val_loss: 0.9504 - val_accuracy: 0.7243\n",
            "Epoch 19/50\n",
            "241/241 [==============================] - 2s 9ms/step - loss: 0.6814 - accuracy: 0.7845 - val_loss: 0.9429 - val_accuracy: 0.7250\n",
            "Epoch 20/50\n",
            "241/241 [==============================] - 3s 12ms/step - loss: 0.6695 - accuracy: 0.7879 - val_loss: 0.9484 - val_accuracy: 0.7280\n",
            "Epoch 21/50\n",
            "241/241 [==============================] - 1s 6ms/step - loss: 0.6592 - accuracy: 0.7879 - val_loss: 0.9487 - val_accuracy: 0.7353\n",
            "Epoch 22/50\n",
            "241/241 [==============================] - 1s 6ms/step - loss: 0.6368 - accuracy: 0.7979 - val_loss: 0.9497 - val_accuracy: 0.7286\n",
            "Epoch 23/50\n",
            "241/241 [==============================] - 2s 7ms/step - loss: 0.6243 - accuracy: 0.8007 - val_loss: 0.9646 - val_accuracy: 0.7237\n",
            "Epoch 24/50\n",
            "241/241 [==============================] - 2s 7ms/step - loss: 0.6107 - accuracy: 0.8051 - val_loss: 0.9779 - val_accuracy: 0.7243\n",
            "Epoch 25/50\n",
            "241/241 [==============================] - 2s 6ms/step - loss: 0.6098 - accuracy: 0.8034 - val_loss: 0.9786 - val_accuracy: 0.7237\n",
            "Epoch 26/50\n",
            "241/241 [==============================] - 2s 7ms/step - loss: 0.5973 - accuracy: 0.8067 - val_loss: 1.0021 - val_accuracy: 0.7304\n",
            "Epoch 27/50\n",
            "241/241 [==============================] - 2s 10ms/step - loss: 0.5749 - accuracy: 0.8108 - val_loss: 1.0024 - val_accuracy: 0.7219\n",
            "Epoch 28/50\n",
            "241/241 [==============================] - 3s 12ms/step - loss: 0.5719 - accuracy: 0.8126 - val_loss: 0.9986 - val_accuracy: 0.7292\n",
            "Epoch 29/50\n",
            "241/241 [==============================] - 2s 7ms/step - loss: 0.5665 - accuracy: 0.8125 - val_loss: 1.0101 - val_accuracy: 0.7310\n",
            "Epoch 30/50\n",
            "241/241 [==============================] - 2s 8ms/step - loss: 0.5577 - accuracy: 0.8141 - val_loss: 1.0181 - val_accuracy: 0.7298\n",
            "Epoch 31/50\n",
            "241/241 [==============================] - 2s 7ms/step - loss: 0.5354 - accuracy: 0.8244 - val_loss: 1.0065 - val_accuracy: 0.7389\n",
            "Epoch 32/50\n",
            "241/241 [==============================] - 2s 8ms/step - loss: 0.5368 - accuracy: 0.8249 - val_loss: 1.0242 - val_accuracy: 0.7328\n",
            "Epoch 33/50\n",
            "241/241 [==============================] - 2s 7ms/step - loss: 0.5283 - accuracy: 0.8258 - val_loss: 1.0397 - val_accuracy: 0.7365\n",
            "Epoch 34/50\n",
            "241/241 [==============================] - 2s 8ms/step - loss: 0.5272 - accuracy: 0.8227 - val_loss: 1.0454 - val_accuracy: 0.7189\n",
            "Epoch 35/50\n",
            "241/241 [==============================] - 3s 12ms/step - loss: 0.5144 - accuracy: 0.8223 - val_loss: 1.0557 - val_accuracy: 0.7359\n",
            "Epoch 36/50\n",
            "241/241 [==============================] - 2s 10ms/step - loss: 0.5053 - accuracy: 0.8313 - val_loss: 1.0834 - val_accuracy: 0.7280\n",
            "Epoch 37/50\n",
            "241/241 [==============================] - 2s 8ms/step - loss: 0.4989 - accuracy: 0.8280 - val_loss: 1.0696 - val_accuracy: 0.7274\n",
            "Epoch 38/50\n",
            "241/241 [==============================] - 2s 7ms/step - loss: 0.4840 - accuracy: 0.8365 - val_loss: 1.0882 - val_accuracy: 0.7243\n",
            "Epoch 39/50\n",
            "241/241 [==============================] - 2s 7ms/step - loss: 0.4925 - accuracy: 0.8340 - val_loss: 1.1023 - val_accuracy: 0.7231\n",
            "Epoch 40/50\n",
            "241/241 [==============================] - 2s 7ms/step - loss: 0.4857 - accuracy: 0.8388 - val_loss: 1.0955 - val_accuracy: 0.7328\n",
            "Epoch 41/50\n",
            "241/241 [==============================] - 2s 6ms/step - loss: 0.4820 - accuracy: 0.8371 - val_loss: 1.0997 - val_accuracy: 0.7292\n",
            "Epoch 42/50\n",
            "241/241 [==============================] - 2s 10ms/step - loss: 0.4714 - accuracy: 0.8411 - val_loss: 1.1248 - val_accuracy: 0.7304\n",
            "Epoch 43/50\n",
            "241/241 [==============================] - 3s 11ms/step - loss: 0.4630 - accuracy: 0.8398 - val_loss: 1.1320 - val_accuracy: 0.7243\n",
            "Epoch 44/50\n",
            "241/241 [==============================] - 2s 9ms/step - loss: 0.4617 - accuracy: 0.8437 - val_loss: 1.1403 - val_accuracy: 0.7280\n",
            "Epoch 45/50\n",
            "241/241 [==============================] - 2s 8ms/step - loss: 0.4493 - accuracy: 0.8450 - val_loss: 1.1354 - val_accuracy: 0.7286\n",
            "Epoch 46/50\n",
            "241/241 [==============================] - 2s 7ms/step - loss: 0.4609 - accuracy: 0.8437 - val_loss: 1.1755 - val_accuracy: 0.7304\n",
            "Epoch 47/50\n",
            "241/241 [==============================] - 2s 8ms/step - loss: 0.4616 - accuracy: 0.8427 - val_loss: 1.1633 - val_accuracy: 0.7316\n",
            "Epoch 48/50\n",
            "241/241 [==============================] - 2s 8ms/step - loss: 0.4411 - accuracy: 0.8478 - val_loss: 1.1433 - val_accuracy: 0.7280\n",
            "Epoch 49/50\n",
            "241/241 [==============================] - 2s 9ms/step - loss: 0.4304 - accuracy: 0.8497 - val_loss: 1.2204 - val_accuracy: 0.7201\n",
            "Epoch 50/50\n",
            "241/241 [==============================] - 3s 12ms/step - loss: 0.4311 - accuracy: 0.8487 - val_loss: 1.2068 - val_accuracy: 0.7225\n"
          ]
        }
      ],
      "source": [
        "# Train the model\n",
        "history = model.fit(X_train, y_train, epochs=50, batch_size=32, validation_data=(X_val, y_val))"
      ]
    },
    {
      "cell_type": "code",
      "source": [
        "import matplotlib.pyplot as plt\n",
        "\n",
        "# Plotting training & validation accuracy values\n",
        "plt.figure(figsize=(12, 5))\n",
        "\n",
        "# Subplot for accuracy\n",
        "plt.subplot(1, 2, 1)\n",
        "plt.plot(history.history['accuracy'])\n",
        "plt.plot(history.history['val_accuracy'])\n",
        "plt.title('Model Accuracy')\n",
        "plt.ylabel('Accuracy')\n",
        "plt.xlabel('Epoch')\n",
        "plt.legend(['Train', 'Validation'], loc='upper left')\n",
        "\n",
        "# Subplot for loss\n",
        "plt.subplot(1, 2, 2)\n",
        "plt.plot(history.history['loss'])\n",
        "plt.plot(history.history['val_loss'])\n",
        "plt.title('Model Loss')\n",
        "plt.ylabel('Loss')\n",
        "plt.xlabel('Epoch')\n",
        "plt.legend(['Train', 'Validation'], loc='upper left')\n",
        "\n",
        "plt.show()\n"
      ],
      "metadata": {
        "colab": {
          "base_uri": "https://localhost:8080/",
          "height": 431
        },
        "id": "4MM2zByGf3LB",
        "outputId": "9a38ea05-ca70-47a4-c240-2363a58f807a"
      },
      "id": "4MM2zByGf3LB",
      "execution_count": 11,
      "outputs": [
        {
          "output_type": "display_data",
          "data": {
            "text/plain": [
              "<Figure size 1200x500 with 2 Axes>"
            ],
            "image/png": "[encoded data removed]"
          },
          "metadata": {}
        }
      ]
    },
    {
      "cell_type": "markdown",
      "id": "9802c367",
      "metadata": {
        "id": "9802c367"
      },
      "source": [
        "## Step 6: Evaluate the Model\n",
        "\n",
        "Evaluate the model's performance on the test set."
      ]
    },
    {
      "cell_type": "code",
      "execution_count": 9,
      "id": "e73ab849",
      "metadata": {
        "colab": {
          "base_uri": "https://localhost:8080/"
        },
        "id": "e73ab849",
        "outputId": "63dbf2d8-57ed-40e7-ea52-60aeaa10a5cf"
      },
      "outputs": [
        {
          "output_type": "stream",
          "name": "stdout",
          "text": [
            "52/52 [==============================] - 1s 15ms/step - loss: 1.1601 - accuracy: 0.7341\n",
            "Test Accuracy: 73.41%\n"
          ]
        }
      ],
      "source": [
        "# Evaluate the model\n",
        "test_loss, test_accuracy = model.evaluate(X_test, y_test)\n",
        "print(f\"Test Accuracy: {test_accuracy*100:.2f}%\")"
      ]
    },
    {
      "cell_type": "markdown",
      "id": "3c3a5d3c",
      "metadata": {
        "id": "3c3a5d3c"
      },
      "source": [
        "## Step 7: Save the Model (Optional)\n",
        "\n",
        "Optionally, we can save the model for future use."
      ]
    },
    {
      "cell_type": "code",
      "execution_count": 10,
      "id": "14ee45e0",
      "metadata": {
        "colab": {
          "base_uri": "https://localhost:8080/"
        },
        "id": "14ee45e0",
        "outputId": "3e1f29a9-dffc-4c38-d7f7-72df6c1506d8"
      },
      "outputs": [
        {
          "output_type": "stream",
          "name": "stderr",
          "text": [
            "/usr/local/lib/python3.10/dist-packages/keras/src/engine/training.py:3079: UserWarning: You are saving your model as an HDF5 file via `model.save()`. This file format is considered legacy. We recommend using instead the native Keras format, e.g. `model.save('my_model.keras')`.\n",
            "  saving_api.save_model(\n"
          ]
        }
      ],
      "source": [
        "# Save the model\n",
        "model.save('surname_nationality_classifier.h5')"
      ]
    },
    {
      "cell_type": "markdown",
      "source": [
        "TODO: Give a surname to the model and ask the model to predict the nationality of it."
      ],
      "metadata": {
        "id": "r23cQfRdgQGT"
      },
      "id": "r23cQfRdgQGT"
    },
    {
      "cell_type": "markdown",
      "source": [
        "TODO: change the architecture of the model to reduce the overfitting"
      ],
      "metadata": {
        "id": "B0gZlsuFhRTR"
      },
      "id": "B0gZlsuFhRTR"
    }
  ],
  "metadata": {
    "colab": {
      "provenance": [],
      "include_colab_link": true
    },
    "language_info": {
      "name": "python"
    },
    "kernelspec": {
      "name": "python3",
      "display_name": "Python 3"
    }
  },
  "nbformat": 4,
  "nbformat_minor": 5
}